{
 "cells": [
  {
   "cell_type": "code",
   "execution_count": 1,
   "id": "2420f15d-a4e1-4cd5-874b-108b0396dc9e",
   "metadata": {},
   "outputs": [],
   "source": [
    "import pandas as pd\n",
    "import numpy as np\n",
    "import matplotlib.pyplot as plt\n",
    "import seaborn as sns\n",
    "import scipy.stats as stats\n",
    "from sklearn.model_selection import train_test_split\n",
    "from scipy.stats import pearsonr, spearmanr\n",
    "from sklearn.preprocessing import MinMaxScaler, PolynomialFeatures\n",
    "from sklearn.linear_model import LogisticRegression\n",
    "from sklearn.ensemble import RandomForestClassifier\n",
    "from sklearn.neighbors import KNeighborsClassifier\n",
    "from sklearn.metrics import classification_report\n",
    "from sklearn.metrics import confusion_matrix\n",
    "\n",
    "from sklearn.metrics import recall_score, precision_score, f1_score, accuracy_score\n",
    "from sklearn.metrics import mean_squared_error, r2_score\n",
    "from sklearn.feature_selection import f_regression, RFE\n",
    "\n",
    "\n",
    "pd.set_option('display.max_columns',None) \n",
    "pd.set_option('display.max_rows',None)\n",
    "\n",
    "import warnings\n",
    "warnings.filterwarnings(\"ignore\")\n",
    "\n",
    "import wrangle"
   ]
  },
  {
   "cell_type": "markdown",
   "id": "8f25ec18-a551-49bf-b58e-30637554aaa1",
   "metadata": {},
   "source": [
    "# Project Goal\n",
    "    - Create a ML model to help predict individuals who are at risk for heart disease using key indicators\n"
   ]
  },
  {
   "cell_type": "markdown",
   "id": "8431bee4-a7cb-4c32-bb7f-3576d69449de",
   "metadata": {},
   "source": [
    "# Project Description\n",
    "\n",
    " Heart disease is the leading cause of death in the United States. The term 'heart disease' refers to several types of heart conditions. In the Unites States, the most common type of heart disease is coronary arter disease(CAD), which can lead to heart attack. You can greately reduce your risk for heart disease through lifestyle changes and, in some cases, medicine."
   ]
  },
  {
   "cell_type": "markdown",
   "id": "7d9abf43-6cec-463e-9e31-f3218fc17fd1",
   "metadata": {},
   "source": [
    "# Initial Hypothesis/Questions\n",
    "\n",
    "    - Does risk of heart disease increase as age increases?\n",
    "    - Does difficulty walking up stairs a key indicator for at risk of heart disease? \n",
    "    - Does being diabetic increase your risk for heart disease? \n",
    "    - Is smoking a key indicator of those at risk of heart disease?"
   ]
  },
  {
   "cell_type": "markdown",
   "id": "5c29b6dc-762d-4975-a9f8-2e9cee654268",
   "metadata": {},
   "source": [
    "# Wrangle Heart Disease Data\n",
    "To acquire the heart disease data, download the .csv file and save it to your computer, use pandas to read the .csv\n",
    "- The dataset is from the 2020 annual CDC survey of 400k adults the responses related to their health status."
   ]
  },
  {
   "cell_type": "code",
   "execution_count": 2,
   "id": "d0fda3c0-1c6d-4b64-ba94-c60e6097ee49",
   "metadata": {},
   "outputs": [
    {
     "name": "stdout",
     "output_type": "stream",
     "text": [
      "Dataframe Shape\n",
      "(319795, 18)\n",
      " \n"
     ]
    },
    {
     "data": {
      "text/html": [
       "<div>\n",
       "<style scoped>\n",
       "    .dataframe tbody tr th:only-of-type {\n",
       "        vertical-align: middle;\n",
       "    }\n",
       "\n",
       "    .dataframe tbody tr th {\n",
       "        vertical-align: top;\n",
       "    }\n",
       "\n",
       "    .dataframe thead th {\n",
       "        text-align: right;\n",
       "    }\n",
       "</style>\n",
       "<table border=\"1\" class=\"dataframe\">\n",
       "  <thead>\n",
       "    <tr style=\"text-align: right;\">\n",
       "      <th></th>\n",
       "      <th>HeartDisease</th>\n",
       "      <th>BMI</th>\n",
       "      <th>Smoking</th>\n",
       "      <th>AlcoholDrinking</th>\n",
       "      <th>Stroke</th>\n",
       "      <th>PhysicalHealth</th>\n",
       "      <th>MentalHealth</th>\n",
       "      <th>DiffWalking</th>\n",
       "      <th>Sex</th>\n",
       "      <th>AgeCategory</th>\n",
       "      <th>Race</th>\n",
       "      <th>Diabetic</th>\n",
       "      <th>PhysicalActivity</th>\n",
       "      <th>GenHealth</th>\n",
       "      <th>SleepTime</th>\n",
       "      <th>Asthma</th>\n",
       "      <th>KidneyDisease</th>\n",
       "      <th>SkinCancer</th>\n",
       "    </tr>\n",
       "  </thead>\n",
       "  <tbody>\n",
       "    <tr>\n",
       "      <th>0</th>\n",
       "      <td>No</td>\n",
       "      <td>16.60</td>\n",
       "      <td>Yes</td>\n",
       "      <td>No</td>\n",
       "      <td>No</td>\n",
       "      <td>3.0</td>\n",
       "      <td>30.0</td>\n",
       "      <td>No</td>\n",
       "      <td>Female</td>\n",
       "      <td>55-59</td>\n",
       "      <td>White</td>\n",
       "      <td>Yes</td>\n",
       "      <td>Yes</td>\n",
       "      <td>Very good</td>\n",
       "      <td>5.0</td>\n",
       "      <td>Yes</td>\n",
       "      <td>No</td>\n",
       "      <td>Yes</td>\n",
       "    </tr>\n",
       "    <tr>\n",
       "      <th>1</th>\n",
       "      <td>No</td>\n",
       "      <td>20.34</td>\n",
       "      <td>No</td>\n",
       "      <td>No</td>\n",
       "      <td>Yes</td>\n",
       "      <td>0.0</td>\n",
       "      <td>0.0</td>\n",
       "      <td>No</td>\n",
       "      <td>Female</td>\n",
       "      <td>80 or older</td>\n",
       "      <td>White</td>\n",
       "      <td>No</td>\n",
       "      <td>Yes</td>\n",
       "      <td>Very good</td>\n",
       "      <td>7.0</td>\n",
       "      <td>No</td>\n",
       "      <td>No</td>\n",
       "      <td>No</td>\n",
       "    </tr>\n",
       "  </tbody>\n",
       "</table>\n",
       "</div>"
      ],
      "text/plain": [
       "  HeartDisease    BMI Smoking AlcoholDrinking Stroke  PhysicalHealth  \\\n",
       "0           No  16.60     Yes              No     No             3.0   \n",
       "1           No  20.34      No              No    Yes             0.0   \n",
       "\n",
       "   MentalHealth DiffWalking     Sex  AgeCategory   Race Diabetic  \\\n",
       "0          30.0          No  Female        55-59  White      Yes   \n",
       "1           0.0          No  Female  80 or older  White       No   \n",
       "\n",
       "  PhysicalActivity  GenHealth  SleepTime Asthma KidneyDisease SkinCancer  \n",
       "0              Yes  Very good        5.0    Yes            No        Yes  \n",
       "1              Yes  Very good        7.0     No            No         No  "
      ]
     },
     "execution_count": 2,
     "metadata": {},
     "output_type": "execute_result"
    }
   ],
   "source": [
    "df = wrangle.acquire_heart_data()\n",
    "df.head(2)"
   ]
  },
  {
   "cell_type": "markdown",
   "id": "ff7ba6d0-a256-49ab-9358-9cf74a2b0d33",
   "metadata": {},
   "source": [
    "# Prepare\n",
    "\n",
    "To prepare the data, the created functions will do the following:\n",
    "- Rename all columns for readability\n",
    "- Dummy Vars: Convert all columns to ML friendly values\n",
    "- Normalize the numerical data using MinMaxScaler \n",
    "- Scale the data "
   ]
  },
  {
   "cell_type": "markdown",
   "id": "b46888b4-890a-4636-8f34-19d83687384e",
   "metadata": {},
   "source": [
    "### Let's prep the data and see what we are working with"
   ]
  },
  {
   "cell_type": "code",
   "execution_count": 3,
   "id": "b5d41f97-3935-4aae-8104-0790634a385a",
   "metadata": {},
   "outputs": [
    {
     "name": "stdout",
     "output_type": "stream",
     "text": [
      "New Dataframe Shape\n",
      "(319795, 26)\n",
      " \n"
     ]
    },
    {
     "data": {
      "text/html": [
       "<div>\n",
       "<style scoped>\n",
       "    .dataframe tbody tr th:only-of-type {\n",
       "        vertical-align: middle;\n",
       "    }\n",
       "\n",
       "    .dataframe tbody tr th {\n",
       "        vertical-align: top;\n",
       "    }\n",
       "\n",
       "    .dataframe thead th {\n",
       "        text-align: right;\n",
       "    }\n",
       "</style>\n",
       "<table border=\"1\" class=\"dataframe\">\n",
       "  <thead>\n",
       "    <tr style=\"text-align: right;\">\n",
       "      <th></th>\n",
       "      <th>BMI</th>\n",
       "      <th>physical_health</th>\n",
       "      <th>mental_health</th>\n",
       "      <th>age_category</th>\n",
       "      <th>gen_health</th>\n",
       "      <th>sleep_time</th>\n",
       "      <th>heart_disease_Yes</th>\n",
       "      <th>smoking_Yes</th>\n",
       "      <th>alcohol_drinking_Yes</th>\n",
       "      <th>stroke_Yes</th>\n",
       "      <th>diff_walking_Yes</th>\n",
       "      <th>sex_Male</th>\n",
       "      <th>physical_activity_Yes</th>\n",
       "      <th>asthma_Yes</th>\n",
       "      <th>kidney_disease_Yes</th>\n",
       "      <th>skin_cancer_Yes</th>\n",
       "      <th>race_American Indian/Alaskan Native</th>\n",
       "      <th>race_Asian</th>\n",
       "      <th>race_Black</th>\n",
       "      <th>race_Hispanic</th>\n",
       "      <th>race_Other</th>\n",
       "      <th>race_White</th>\n",
       "      <th>diabetic_No</th>\n",
       "      <th>diabetic_No, borderline diabetes</th>\n",
       "      <th>diabetic_Yes</th>\n",
       "      <th>diabetic_Yes (during pregnancy)</th>\n",
       "    </tr>\n",
       "  </thead>\n",
       "  <tbody>\n",
       "    <tr>\n",
       "      <th>0</th>\n",
       "      <td>16.60</td>\n",
       "      <td>3.0</td>\n",
       "      <td>30.0</td>\n",
       "      <td>7</td>\n",
       "      <td>3</td>\n",
       "      <td>5.0</td>\n",
       "      <td>0</td>\n",
       "      <td>1</td>\n",
       "      <td>0</td>\n",
       "      <td>0</td>\n",
       "      <td>0</td>\n",
       "      <td>0</td>\n",
       "      <td>1</td>\n",
       "      <td>1</td>\n",
       "      <td>0</td>\n",
       "      <td>1</td>\n",
       "      <td>0</td>\n",
       "      <td>0</td>\n",
       "      <td>0</td>\n",
       "      <td>0</td>\n",
       "      <td>0</td>\n",
       "      <td>1</td>\n",
       "      <td>0</td>\n",
       "      <td>0</td>\n",
       "      <td>1</td>\n",
       "      <td>0</td>\n",
       "    </tr>\n",
       "    <tr>\n",
       "      <th>1</th>\n",
       "      <td>20.34</td>\n",
       "      <td>0.0</td>\n",
       "      <td>0.0</td>\n",
       "      <td>12</td>\n",
       "      <td>3</td>\n",
       "      <td>7.0</td>\n",
       "      <td>0</td>\n",
       "      <td>0</td>\n",
       "      <td>0</td>\n",
       "      <td>1</td>\n",
       "      <td>0</td>\n",
       "      <td>0</td>\n",
       "      <td>1</td>\n",
       "      <td>0</td>\n",
       "      <td>0</td>\n",
       "      <td>0</td>\n",
       "      <td>0</td>\n",
       "      <td>0</td>\n",
       "      <td>0</td>\n",
       "      <td>0</td>\n",
       "      <td>0</td>\n",
       "      <td>1</td>\n",
       "      <td>1</td>\n",
       "      <td>0</td>\n",
       "      <td>0</td>\n",
       "      <td>0</td>\n",
       "    </tr>\n",
       "  </tbody>\n",
       "</table>\n",
       "</div>"
      ],
      "text/plain": [
       "     BMI  physical_health  mental_health  age_category  gen_health  \\\n",
       "0  16.60              3.0           30.0             7           3   \n",
       "1  20.34              0.0            0.0            12           3   \n",
       "\n",
       "   sleep_time  heart_disease_Yes  smoking_Yes  alcohol_drinking_Yes  \\\n",
       "0         5.0                  0            1                     0   \n",
       "1         7.0                  0            0                     0   \n",
       "\n",
       "   stroke_Yes  diff_walking_Yes  sex_Male  physical_activity_Yes  asthma_Yes  \\\n",
       "0           0                 0         0                      1           1   \n",
       "1           1                 0         0                      1           0   \n",
       "\n",
       "   kidney_disease_Yes  skin_cancer_Yes  race_American Indian/Alaskan Native  \\\n",
       "0                   0                1                                    0   \n",
       "1                   0                0                                    0   \n",
       "\n",
       "   race_Asian  race_Black  race_Hispanic  race_Other  race_White  diabetic_No  \\\n",
       "0           0           0              0           0           1            0   \n",
       "1           0           0              0           0           1            1   \n",
       "\n",
       "   diabetic_No, borderline diabetes  diabetic_Yes  \\\n",
       "0                                 0             1   \n",
       "1                                 0             0   \n",
       "\n",
       "   diabetic_Yes (during pregnancy)  \n",
       "0                                0  \n",
       "1                                0  "
      ]
     },
     "execution_count": 3,
     "metadata": {},
     "output_type": "execute_result"
    }
   ],
   "source": [
    "new_df = wrangle.prep_data()\n",
    "new_df.head(2)"
   ]
  },
  {
   "cell_type": "code",
   "execution_count": 4,
   "id": "22117a90-7569-4a41-8270-f78af1fc37ee",
   "metadata": {},
   "outputs": [
    {
     "name": "stdout",
     "output_type": "stream",
     "text": [
      "(54746, 26)\n",
      "Heart Disease Counts in Train dataframe\n",
      " \n",
      "0    27373\n",
      "1    27373\n",
      "Name: heart_disease_Yes, dtype: int64\n"
     ]
    }
   ],
   "source": [
    "# Data will be downsampled for better exploration and modeling\n",
    "new_df = wrangle.downsample_data(new_df)"
   ]
  },
  {
   "cell_type": "markdown",
   "id": "898bb0e1-65b3-4b57-9f13-f0cbc9e56b8e",
   "metadata": {
    "tags": []
   },
   "source": [
    "### Let's split the data for Exploration"
   ]
  },
  {
   "cell_type": "code",
   "execution_count": 5,
   "id": "acce0e21-1df0-4025-a1cd-7881b1ba5b7b",
   "metadata": {},
   "outputs": [
    {
     "data": {
      "text/plain": [
       "((30657, 26), (13139, 26), (10950, 26))"
      ]
     },
     "execution_count": 5,
     "metadata": {},
     "output_type": "execute_result"
    }
   ],
   "source": [
    "train, validate, test = wrangle.split_data(new_df)\n",
    "train.shape, validate.shape, test.shape"
   ]
  },
  {
   "cell_type": "markdown",
   "id": "41f10e92-4875-4908-b76e-9148de0da436",
   "metadata": {},
   "source": [
    "- Our data is now split into three samples so that we can explore, fit models, and evaluate without looking at new data.\n",
    "- The validate sample is used to verify that our models built are not overfit to the train dataset\n",
    "- The test set is used to give an estimate of how this model will perform on new data"
   ]
  },
  {
   "cell_type": "markdown",
   "id": "2f90f9ec-88cc-473b-9cf2-6b04eb455e85",
   "metadata": {
    "tags": []
   },
   "source": [
    "## Data Context\n",
    "- The data is made up of 54,746 Rows and 26 columns\n",
    "\n",
    "- Heart disease a greater risk for individuals who:\n",
    "\n",
    "- Are higher in age\n",
    "\n",
    "- Have difficulty walking/ climbing stairs\n",
    "\n",
    "- Are diabetic\n",
    "\n",
    "- Smoke cigarettes\n"
   ]
  },
  {
   "cell_type": "code",
   "execution_count": 6,
   "id": "272c8644-a32f-4a73-a633-e70e6267cc50",
   "metadata": {},
   "outputs": [
    {
     "data": {
      "image/png": "[encoded data removed]",
      "text/plain": [
       "<Figure size 1080x936 with 1 Axes>"
      ]
     },
     "metadata": {
      "needs_background": "light"
     },
     "output_type": "display_data"
    }
   ],
   "source": [
    "train.corr()['heart_disease_Yes'].sort_values().plot(kind='barh', figsize=(15,13))\n",
    "None"
   ]
  },
  {
   "cell_type": "markdown",
   "id": "0f0c8b93-1cae-4900-8ba2-e1f94126ece8",
   "metadata": {},
   "source": [
    "## Exploratory Analysis : Who is at higher risk of heart disease?\n",
    "Further analysis will answer the following questions:\n",
    "\n",
    "1. Does risk of heart disease increase as age increases?\n",
    "2. Does difficulty walking up stairs a key indicator for at risk of heart disease? \n",
    "3. Does being diabetic increase your risk for heart disease? \n",
    "4. Is smoking a key indicator of those at risk of heart disease?\n"
   ]
  },
  {
   "cell_type": "markdown",
   "id": "6073e1bd-93d5-42bd-8dcb-8c97ff3cdd20",
   "metadata": {},
   "source": [
    "# Question 1"
   ]
  },
  {
   "cell_type": "code",
   "execution_count": 7,
   "id": "5aa93161-3a60-451b-be4e-a9357f426f83",
   "metadata": {},
   "outputs": [
    {
     "name": "stdout",
     "output_type": "stream",
     "text": [
      "12    4096\n",
      "10    4075\n",
      "9     3805\n",
      "8     3482\n",
      "11    3109\n",
      "7     2651\n",
      "6     2060\n",
      "5     1540\n",
      "4     1419\n",
      "3     1239\n",
      "0     1189\n",
      "2     1075\n",
      "1      917\n",
      "Name: age_category, dtype: int64\n"
     ]
    },
    {
     "data": {
      "image/png": "[encoded data removed]",
      "text/plain": [
       "<Figure size 1008x576 with 1 Axes>"
      ]
     },
     "metadata": {
      "needs_background": "light"
     },
     "output_type": "display_data"
    }
   ],
   "source": [
    "# Looking at the different age columns and the number of respondants with heart disease\n",
    "\n",
    "plt.figure(figsize = (14, 8))\n",
    "#Heart = train.loc[train[‘heart_disease_Yes’] == 0]\n",
    "sns.countplot(x='age_category', hue = 'heart_disease_Yes', palette ='plasma', data = train)\n",
    "plt.title('Heart Disease Amongst Different Ages', fontsize = 20)\n",
    "plt.legend(labels = ['No Heart Disease', 'Has Heart Disease'], fontsize = 18)\n",
    "plt.xlabel('Age Categories', fontsize = 18)\n",
    "plt.ylabel('Number of Respondants', fontsize = 18)\n",
    "\n",
    "print(train.age_category.value_counts(normalize = False))\n"
   ]
  },
  {
   "cell_type": "markdown",
   "id": "1418d185-ba5d-4a25-95e0-fe16526fb456",
   "metadata": {},
   "source": [
    "## Null Hypothesis: Heart disease Respondants ages are equal to or less than all customers\n",
    "\n",
    "## Alternate Hypothesis: Average Age for heart disease respondants are higher than the average respondants age"
   ]
  },
  {
   "cell_type": "code",
   "execution_count": 8,
   "id": "c8e5d84c-3f9f-43cc-9836-f595772806e7",
   "metadata": {},
   "outputs": [
    {
     "name": "stdout",
     "output_type": "stream",
     "text": [
      "We reject the null hypothesis\n",
      "77.88735777749206 0.0 0.05\n"
     ]
    }
   ],
   "source": [
    "# Independent groups. Heart disease vs everyone and comparing ages\n",
    "\n",
    "alpha = .05\n",
    "churn_sample = train[train.heart_disease_Yes ==1].age_category\n",
    "overall_mean = train.age_category.mean()\n",
    "\n",
    "t, p = stats.ttest_1samp(churn_sample, overall_mean)\n",
    "if p/2 > alpha:\n",
    "    print('We fail to reject the null hypothesis')\n",
    "elif t <0:\n",
    "    print('We fail to reject the null hypothesis')\n",
    "else:\n",
    "    print('We reject the null hypothesis')\n",
    "\n",
    "print(t, p/2, alpha)"
   ]
  },
  {
   "cell_type": "markdown",
   "id": "d847813a-5d58-4fb6-bb2b-5e3031482bdf",
   "metadata": {},
   "source": [
    "# Question 2"
   ]
  },
  {
   "cell_type": "code",
   "execution_count": 9,
   "id": "89f7b2b7-86c0-4360-8ed8-e441e9e5a48f",
   "metadata": {},
   "outputs": [
    {
     "data": {
      "image/png": "[encoded data removed]",
      "text/plain": [
       "<Figure size 1008x576 with 1 Axes>"
      ]
     },
     "metadata": {
      "needs_background": "light"
     },
     "output_type": "display_data"
    }
   ],
   "source": [
    "# plot visualization of number of respondants with difficulty walking up stairs and heart disease\n",
    "plt.figure(figsize=(14,8))\n",
    "sns.countplot(x='diff_walking_Yes', hue='heart_disease_Yes', palette='plasma', data=train)\n",
    "plt.title('Heart Disease amongst Respondants with Difficulty Climbing Stairs', fontsize=20)\n",
    "plt.legend(labels=['No Heart Disease','Has Heart Disease'])\n",
    "plt.xlabel('Difficulty Climbing Stairs', fontsize = 18)\n",
    "plt.ylabel('Number of Respondants', fontsize =18)\n",
    "None"
   ]
  },
  {
   "cell_type": "markdown",
   "id": "63eeb884-8b50-48f7-9e31-9c9521ecc8f1",
   "metadata": {},
   "source": [
    "## Null Hypothesis - Difficulty Walking and Having heart disease are independent of each other\n",
    "\n",
    "## Alternative hypothesis - Difficulty Walking and Having heart disease are not independent of each other"
   ]
  },
  {
   "cell_type": "code",
   "execution_count": 10,
   "id": "66ee68bd-0719-4972-a32f-9205ca29d9e4",
   "metadata": {},
   "outputs": [
    {
     "name": "stdout",
     "output_type": "stream",
     "text": [
      "Observed\n",
      "\n",
      "[[13570  1758]\n",
      " [ 9647  5682]]\n",
      "====================\n",
      "Expected\n",
      "\n",
      "[[11608.1213426  3719.8786574]\n",
      " [11608.8786574  3720.1213426]]\n",
      "====================\n",
      "\n",
      "chi^2 = 2731.07\n",
      "p     = 0.00\n",
      " \n",
      "We reject the null hypothesis.\n"
     ]
    }
   ],
   "source": [
    "alpha = .05 \n",
    "\n",
    "observed = pd.crosstab(train.heart_disease_Yes, train.diff_walking_Yes)\n",
    "observed\n",
    "\n",
    "chi2, p, degf, expected = stats.chi2_contingency(observed)\n",
    "\n",
    "print('Observed\\n')\n",
    "print(observed.values)\n",
    "print('====================\\nExpected\\n')\n",
    "print(expected)\n",
    "print('====================\\n')\n",
    "print(f'chi^2 = {chi2:.2f}')\n",
    "print(f'p     = {p:.2f}')\n",
    "print(' ')\n",
    "if p<alpha:\n",
    "    print('We reject the null hypothesis.')\n",
    "else:\n",
    "    print('We fail to reject the null hypothesis.')"
   ]
  },
  {
   "cell_type": "markdown",
   "id": "69981b4b-8cb3-44a1-bf3b-2aeed5a35f8a",
   "metadata": {},
   "source": [
    "# Question 3"
   ]
  },
  {
   "cell_type": "code",
   "execution_count": 11,
   "id": "4dddd2b3-9678-4306-b971-074cf75b2195",
   "metadata": {},
   "outputs": [
    {
     "data": {
      "image/png": "[encoded data removed]",
      "text/plain": [
       "<Figure size 1008x576 with 1 Axes>"
      ]
     },
     "metadata": {
      "needs_background": "light"
     },
     "output_type": "display_data"
    }
   ],
   "source": [
    "# plot visualization of number of respondants with diabetes and heart disease\n",
    "plt.figure(figsize=(14,8))\n",
    "sns.countplot(x='diabetic_Yes', hue='heart_disease_Yes', palette='plasma', data=train)\n",
    "plt.title('Heart Disease amongst Respondants with Diabetes', fontsize=20)\n",
    "plt.legend(labels=['No Heart Disease','Has Heart Disease'])\n",
    "plt.xlabel('Is Diabetic', fontsize = 18)\n",
    "plt.ylabel('Number of Respondants', fontsize =18)\n",
    "None"
   ]
  },
  {
   "cell_type": "markdown",
   "id": "9d897a89-a9c1-4389-813b-3851fc714bc3",
   "metadata": {},
   "source": [
    "# Question 4"
   ]
  },
  {
   "cell_type": "code",
   "execution_count": 12,
   "id": "7fab63c4-b571-4c12-9ff1-32bbfae0a73a",
   "metadata": {},
   "outputs": [
    {
     "data": {
      "image/png": "[encoded data removed]",
      "text/plain": [
       "<Figure size 1008x576 with 1 Axes>"
      ]
     },
     "metadata": {
      "needs_background": "light"
     },
     "output_type": "display_data"
    }
   ],
   "source": [
    "# plot visualization of number of respondants who smoke and have heart disease\n",
    "plt.figure(figsize=(14,8))\n",
    "sns.countplot(x='smoking_Yes', hue='heart_disease_Yes', palette='plasma', data=train)\n",
    "plt.title('Heart Disease amongst Respondants who Smoke', fontsize=20)\n",
    "plt.legend(labels=['No Heart Disease','Has Heart Disease'])\n",
    "plt.xlabel('Is a Smoker')\n",
    "plt.ylabel('Number of Respondants', fontsize =18)\n",
    "None"
   ]
  },
  {
   "cell_type": "code",
   "execution_count": 13,
   "id": "12389e34-591f-424a-8e51-308a44297466",
   "metadata": {},
   "outputs": [
    {
     "name": "stdout",
     "output_type": "stream",
     "text": [
      "Observed\n",
      "\n",
      "[[9222 6106]\n",
      " [6401 8928]]\n",
      "====================\n",
      "Expected\n",
      "\n",
      "[[7811.24519686 7516.75480314]\n",
      " [7811.75480314 7517.24519686]]\n",
      "====================\n",
      "\n",
      "chi^2 = 1038.35\n",
      "p     = 0.00\n",
      "We reject the null hypothesis.\n"
     ]
    }
   ],
   "source": [
    "alpha = .05 \n",
    "\n",
    "observed = pd.crosstab(train.heart_disease_Yes, train.smoking_Yes)\n",
    "observed\n",
    "chi2, p, degf, expected = stats.chi2_contingency(observed)\n",
    "\n",
    "print('Observed\\n')\n",
    "print(observed.values)\n",
    "print('====================\\nExpected\\n')\n",
    "print(expected)\n",
    "print('====================\\n')\n",
    "print(f'chi^2 = {chi2:.2f}')\n",
    "print(f'p     = {p:.2f}')\n",
    "if p<alpha:\n",
    "    print('We reject the null hypothesis.')\n",
    "else:\n",
    "    print('We fail to reject the null hypothesis.')"
   ]
  },
  {
   "cell_type": "markdown",
   "id": "e2622b44-bf97-4da3-989c-560b1f430683",
   "metadata": {},
   "source": [
    "# Key Takeaways/Features from exploration:\n",
    "- Respondants age can be key indicator for risk of heart disease\n",
    "\n",
    "- Respondants who have difficulty walking or climbing stairs are more likely to have heart disease\n",
    "\n",
    "- Respondants with diabetes are at greater risk for heart disease\n",
    "\n",
    "- Respondants who smoke are at greater risk for heart disease"
   ]
  },
  {
   "cell_type": "markdown",
   "id": "26a06fb5-b10d-4d89-9f09-4a17f447d322",
   "metadata": {},
   "source": [
    "# Key Indicators for Heart Disease\n",
    "### Classification machine learning algorithms will be fit with our training data and evaluated on our validate data\n",
    "### Models will be fit with key features drawn from exploration phase:\n",
    "    - age_category, diff_walking, diabetic_yes, physical_health, stroke_yes, smoking_yes, kidney_disease_Yes, gen_health\n",
    "    \n",
    "### The model chosen will be based on accuracy and its performance over the baseline"
   ]
  },
  {
   "cell_type": "code",
   "execution_count": 14,
   "id": "c14872aa-f1ec-4fad-a1d5-55bd4c55d4da",
   "metadata": {},
   "outputs": [
    {
     "name": "stdout",
     "output_type": "stream",
     "text": [
      " Any new model must be more accurate than the Baseline Accuracy of 50.00%\n"
     ]
    }
   ],
   "source": [
    "# Baseline\n",
    "baseline_accuracy = (train.heart_disease_Yes == 1).mean()\n",
    "print(f' Any new model must be more accurate than the Baseline Accuracy of {baseline_accuracy :.2%}')"
   ]
  },
  {
   "cell_type": "code",
   "execution_count": 15,
   "id": "2c7ef71e-e87d-4198-ac90-c07feeeb557b",
   "metadata": {},
   "outputs": [],
   "source": [
    "# Data must be scaled for the ML models\n",
    "train_scaled, validate_scaled, test_scaled = wrangle.scale_data(train, validate, test)"
   ]
  },
  {
   "cell_type": "code",
   "execution_count": 16,
   "id": "5813ce49-120c-4aab-b91b-842b6a80bf6b",
   "metadata": {},
   "outputs": [
    {
     "data": {
      "text/html": [
       "<div>\n",
       "<style scoped>\n",
       "    .dataframe tbody tr th:only-of-type {\n",
       "        vertical-align: middle;\n",
       "    }\n",
       "\n",
       "    .dataframe tbody tr th {\n",
       "        vertical-align: top;\n",
       "    }\n",
       "\n",
       "    .dataframe thead th {\n",
       "        text-align: right;\n",
       "    }\n",
       "</style>\n",
       "<table border=\"1\" class=\"dataframe\">\n",
       "  <thead>\n",
       "    <tr style=\"text-align: right;\">\n",
       "      <th></th>\n",
       "      <th>physical_health</th>\n",
       "      <th>age_category</th>\n",
       "      <th>gen_health</th>\n",
       "      <th>smoking_Yes</th>\n",
       "      <th>stroke_Yes</th>\n",
       "      <th>diff_walking_Yes</th>\n",
       "      <th>kidney_disease_Yes</th>\n",
       "      <th>diabetic_Yes</th>\n",
       "    </tr>\n",
       "  </thead>\n",
       "  <tbody>\n",
       "    <tr>\n",
       "      <th>126088</th>\n",
       "      <td>0.0</td>\n",
       "      <td>12</td>\n",
       "      <td>3</td>\n",
       "      <td>0</td>\n",
       "      <td>0</td>\n",
       "      <td>1</td>\n",
       "      <td>0</td>\n",
       "      <td>0</td>\n",
       "    </tr>\n",
       "    <tr>\n",
       "      <th>41910</th>\n",
       "      <td>1.0</td>\n",
       "      <td>9</td>\n",
       "      <td>2</td>\n",
       "      <td>0</td>\n",
       "      <td>0</td>\n",
       "      <td>0</td>\n",
       "      <td>1</td>\n",
       "      <td>1</td>\n",
       "    </tr>\n",
       "  </tbody>\n",
       "</table>\n",
       "</div>"
      ],
      "text/plain": [
       "        physical_health  age_category  gen_health  smoking_Yes  stroke_Yes  \\\n",
       "126088              0.0            12           3            0           0   \n",
       "41910               1.0             9           2            0           0   \n",
       "\n",
       "        diff_walking_Yes  kidney_disease_Yes  diabetic_Yes  \n",
       "126088                 1                   0             0  \n",
       "41910                  0                   1             1  "
      ]
     },
     "execution_count": 16,
     "metadata": {},
     "output_type": "execute_result"
    }
   ],
   "source": [
    "X_train, y_train, X_validate, y_validate, X_test, y_test = wrangle.get_Xtrain_ytrain(train_scaled, train, validate, validate_scaled, test, test_scaled )\n",
    "X_train.head(2)"
   ]
  },
  {
   "cell_type": "markdown",
   "id": "fdc1c3ab-960b-46a0-bb1c-cb0be7b7c06d",
   "metadata": {},
   "source": [
    "# Random Forest Model"
   ]
  },
  {
   "cell_type": "code",
   "execution_count": 17,
   "id": "1bc1b4cb-b6b7-47f3-8683-3924a81b2637",
   "metadata": {},
   "outputs": [
    {
     "data": {
      "text/html": [
       "<div>\n",
       "<style scoped>\n",
       "    .dataframe tbody tr th:only-of-type {\n",
       "        vertical-align: middle;\n",
       "    }\n",
       "\n",
       "    .dataframe tbody tr th {\n",
       "        vertical-align: top;\n",
       "    }\n",
       "\n",
       "    .dataframe thead th {\n",
       "        text-align: right;\n",
       "    }\n",
       "</style>\n",
       "<table border=\"1\" class=\"dataframe\">\n",
       "  <thead>\n",
       "    <tr style=\"text-align: right;\">\n",
       "      <th></th>\n",
       "      <th>min_samples_per_leaf</th>\n",
       "      <th>max_depth</th>\n",
       "      <th>train_accuracy</th>\n",
       "      <th>validate_accuracy</th>\n",
       "      <th>difference</th>\n",
       "    </tr>\n",
       "  </thead>\n",
       "  <tbody>\n",
       "    <tr>\n",
       "      <th>0</th>\n",
       "      <td>1</td>\n",
       "      <td>1</td>\n",
       "      <td>0.731415</td>\n",
       "      <td>0.727909</td>\n",
       "      <td>0.003506</td>\n",
       "    </tr>\n",
       "    <tr>\n",
       "      <th>1</th>\n",
       "      <td>2</td>\n",
       "      <td>2</td>\n",
       "      <td>0.744039</td>\n",
       "      <td>0.738641</td>\n",
       "      <td>0.005398</td>\n",
       "    </tr>\n",
       "    <tr>\n",
       "      <th>2</th>\n",
       "      <td>3</td>\n",
       "      <td>3</td>\n",
       "      <td>0.748834</td>\n",
       "      <td>0.744882</td>\n",
       "      <td>0.003952</td>\n",
       "    </tr>\n",
       "    <tr>\n",
       "      <th>3</th>\n",
       "      <td>4</td>\n",
       "      <td>4</td>\n",
       "      <td>0.749421</td>\n",
       "      <td>0.745414</td>\n",
       "      <td>0.004007</td>\n",
       "    </tr>\n",
       "    <tr>\n",
       "      <th>4</th>\n",
       "      <td>5</td>\n",
       "      <td>5</td>\n",
       "      <td>0.751835</td>\n",
       "      <td>0.746023</td>\n",
       "      <td>0.005812</td>\n",
       "    </tr>\n",
       "    <tr>\n",
       "      <th>5</th>\n",
       "      <td>6</td>\n",
       "      <td>6</td>\n",
       "      <td>0.753237</td>\n",
       "      <td>0.746556</td>\n",
       "      <td>0.006681</td>\n",
       "    </tr>\n",
       "    <tr>\n",
       "      <th>6</th>\n",
       "      <td>7</td>\n",
       "      <td>7</td>\n",
       "      <td>0.757478</td>\n",
       "      <td>0.749220</td>\n",
       "      <td>0.008258</td>\n",
       "    </tr>\n",
       "    <tr>\n",
       "      <th>7</th>\n",
       "      <td>8</td>\n",
       "      <td>8</td>\n",
       "      <td>0.761327</td>\n",
       "      <td>0.751047</td>\n",
       "      <td>0.010280</td>\n",
       "    </tr>\n",
       "    <tr>\n",
       "      <th>8</th>\n",
       "      <td>9</td>\n",
       "      <td>9</td>\n",
       "      <td>0.761425</td>\n",
       "      <td>0.751199</td>\n",
       "      <td>0.010226</td>\n",
       "    </tr>\n",
       "    <tr>\n",
       "      <th>9</th>\n",
       "      <td>10</td>\n",
       "      <td>10</td>\n",
       "      <td>0.763317</td>\n",
       "      <td>0.751123</td>\n",
       "      <td>0.012194</td>\n",
       "    </tr>\n",
       "    <tr>\n",
       "      <th>10</th>\n",
       "      <td>11</td>\n",
       "      <td>11</td>\n",
       "      <td>0.763512</td>\n",
       "      <td>0.751427</td>\n",
       "      <td>0.012085</td>\n",
       "    </tr>\n",
       "    <tr>\n",
       "      <th>11</th>\n",
       "      <td>12</td>\n",
       "      <td>12</td>\n",
       "      <td>0.763936</td>\n",
       "      <td>0.751808</td>\n",
       "      <td>0.012129</td>\n",
       "    </tr>\n",
       "    <tr>\n",
       "      <th>12</th>\n",
       "      <td>13</td>\n",
       "      <td>13</td>\n",
       "      <td>0.763741</td>\n",
       "      <td>0.751047</td>\n",
       "      <td>0.012694</td>\n",
       "    </tr>\n",
       "    <tr>\n",
       "      <th>13</th>\n",
       "      <td>14</td>\n",
       "      <td>14</td>\n",
       "      <td>0.763904</td>\n",
       "      <td>0.750742</td>\n",
       "      <td>0.013162</td>\n",
       "    </tr>\n",
       "  </tbody>\n",
       "</table>\n",
       "</div>"
      ],
      "text/plain": [
       "    min_samples_per_leaf  max_depth  train_accuracy  validate_accuracy  \\\n",
       "0                      1          1        0.731415           0.727909   \n",
       "1                      2          2        0.744039           0.738641   \n",
       "2                      3          3        0.748834           0.744882   \n",
       "3                      4          4        0.749421           0.745414   \n",
       "4                      5          5        0.751835           0.746023   \n",
       "5                      6          6        0.753237           0.746556   \n",
       "6                      7          7        0.757478           0.749220   \n",
       "7                      8          8        0.761327           0.751047   \n",
       "8                      9          9        0.761425           0.751199   \n",
       "9                     10         10        0.763317           0.751123   \n",
       "10                    11         11        0.763512           0.751427   \n",
       "11                    12         12        0.763936           0.751808   \n",
       "12                    13         13        0.763741           0.751047   \n",
       "13                    14         14        0.763904           0.750742   \n",
       "\n",
       "    difference  \n",
       "0     0.003506  \n",
       "1     0.005398  \n",
       "2     0.003952  \n",
       "3     0.004007  \n",
       "4     0.005812  \n",
       "5     0.006681  \n",
       "6     0.008258  \n",
       "7     0.010280  \n",
       "8     0.010226  \n",
       "9     0.012194  \n",
       "10    0.012085  \n",
       "11    0.012129  \n",
       "12    0.012694  \n",
       "13    0.013162  "
      ]
     },
     "execution_count": 17,
     "metadata": {},
     "output_type": "execute_result"
    }
   ],
   "source": [
    "wrangle.random_forest_model(X_train, X_validate, y_train, y_validate)"
   ]
  },
  {
   "cell_type": "code",
   "execution_count": 18,
   "id": "ef5f6440-3150-49a5-9bb8-555776786dd4",
   "metadata": {},
   "outputs": [
    {
     "name": "stdout",
     "output_type": "stream",
     "text": [
      "train_accuracy: 0.7614247969468637\n",
      "validate_accuracy: 0.7511987213638786\n"
     ]
    }
   ],
   "source": [
    "wrangle.rf_report(X_train, X_validate, y_train, y_validate)"
   ]
  },
  {
   "cell_type": "markdown",
   "id": "f8cbd099-25dc-4701-b82f-7f2cef89208c",
   "metadata": {},
   "source": [
    "# KNearestNeighbors Model"
   ]
  },
  {
   "cell_type": "code",
   "execution_count": 19,
   "id": "e771ab66-1079-40eb-9a14-76069e55b713",
   "metadata": {},
   "outputs": [
    {
     "data": {
      "text/html": [
       "<div>\n",
       "<style scoped>\n",
       "    .dataframe tbody tr th:only-of-type {\n",
       "        vertical-align: middle;\n",
       "    }\n",
       "\n",
       "    .dataframe tbody tr th {\n",
       "        vertical-align: top;\n",
       "    }\n",
       "\n",
       "    .dataframe thead th {\n",
       "        text-align: right;\n",
       "    }\n",
       "</style>\n",
       "<table border=\"1\" class=\"dataframe\">\n",
       "  <thead>\n",
       "    <tr style=\"text-align: right;\">\n",
       "      <th></th>\n",
       "      <th>k</th>\n",
       "      <th>train_accuracy</th>\n",
       "      <th>validate_accuracy</th>\n",
       "      <th>difference</th>\n",
       "    </tr>\n",
       "  </thead>\n",
       "  <tbody>\n",
       "    <tr>\n",
       "      <th>0</th>\n",
       "      <td>1</td>\n",
       "      <td>0.729915</td>\n",
       "      <td>0.676307</td>\n",
       "      <td>0.053608</td>\n",
       "    </tr>\n",
       "    <tr>\n",
       "      <th>1</th>\n",
       "      <td>2</td>\n",
       "      <td>0.706723</td>\n",
       "      <td>0.656443</td>\n",
       "      <td>0.050280</td>\n",
       "    </tr>\n",
       "    <tr>\n",
       "      <th>2</th>\n",
       "      <td>3</td>\n",
       "      <td>0.741071</td>\n",
       "      <td>0.700129</td>\n",
       "      <td>0.040941</td>\n",
       "    </tr>\n",
       "    <tr>\n",
       "      <th>3</th>\n",
       "      <td>4</td>\n",
       "      <td>0.734645</td>\n",
       "      <td>0.691986</td>\n",
       "      <td>0.042659</td>\n",
       "    </tr>\n",
       "    <tr>\n",
       "      <th>4</th>\n",
       "      <td>5</td>\n",
       "      <td>0.754249</td>\n",
       "      <td>0.723267</td>\n",
       "      <td>0.030982</td>\n",
       "    </tr>\n",
       "    <tr>\n",
       "      <th>5</th>\n",
       "      <td>6</td>\n",
       "      <td>0.739146</td>\n",
       "      <td>0.703554</td>\n",
       "      <td>0.035592</td>\n",
       "    </tr>\n",
       "    <tr>\n",
       "      <th>6</th>\n",
       "      <td>7</td>\n",
       "      <td>0.756467</td>\n",
       "      <td>0.733922</td>\n",
       "      <td>0.022545</td>\n",
       "    </tr>\n",
       "    <tr>\n",
       "      <th>7</th>\n",
       "      <td>8</td>\n",
       "      <td>0.746387</td>\n",
       "      <td>0.725245</td>\n",
       "      <td>0.021142</td>\n",
       "    </tr>\n",
       "    <tr>\n",
       "      <th>8</th>\n",
       "      <td>9</td>\n",
       "      <td>0.751737</td>\n",
       "      <td>0.735444</td>\n",
       "      <td>0.016293</td>\n",
       "    </tr>\n",
       "    <tr>\n",
       "      <th>9</th>\n",
       "      <td>10</td>\n",
       "      <td>0.747464</td>\n",
       "      <td>0.729203</td>\n",
       "      <td>0.018261</td>\n",
       "    </tr>\n",
       "    <tr>\n",
       "      <th>10</th>\n",
       "      <td>11</td>\n",
       "      <td>0.753922</td>\n",
       "      <td>0.740848</td>\n",
       "      <td>0.013075</td>\n",
       "    </tr>\n",
       "    <tr>\n",
       "      <th>11</th>\n",
       "      <td>12</td>\n",
       "      <td>0.752748</td>\n",
       "      <td>0.738793</td>\n",
       "      <td>0.013955</td>\n",
       "    </tr>\n",
       "    <tr>\n",
       "      <th>12</th>\n",
       "      <td>13</td>\n",
       "      <td>0.756141</td>\n",
       "      <td>0.742142</td>\n",
       "      <td>0.013999</td>\n",
       "    </tr>\n",
       "    <tr>\n",
       "      <th>13</th>\n",
       "      <td>14</td>\n",
       "      <td>0.752879</td>\n",
       "      <td>0.741457</td>\n",
       "      <td>0.011422</td>\n",
       "    </tr>\n",
       "    <tr>\n",
       "      <th>14</th>\n",
       "      <td>15</td>\n",
       "      <td>0.756336</td>\n",
       "      <td>0.744729</td>\n",
       "      <td>0.011607</td>\n",
       "    </tr>\n",
       "    <tr>\n",
       "      <th>15</th>\n",
       "      <td>16</td>\n",
       "      <td>0.754281</td>\n",
       "      <td>0.742674</td>\n",
       "      <td>0.011607</td>\n",
       "    </tr>\n",
       "    <tr>\n",
       "      <th>16</th>\n",
       "      <td>17</td>\n",
       "      <td>0.756662</td>\n",
       "      <td>0.746632</td>\n",
       "      <td>0.010030</td>\n",
       "    </tr>\n",
       "    <tr>\n",
       "      <th>17</th>\n",
       "      <td>18</td>\n",
       "      <td>0.753270</td>\n",
       "      <td>0.744577</td>\n",
       "      <td>0.008693</td>\n",
       "    </tr>\n",
       "    <tr>\n",
       "      <th>18</th>\n",
       "      <td>19</td>\n",
       "      <td>0.756956</td>\n",
       "      <td>0.748154</td>\n",
       "      <td>0.008802</td>\n",
       "    </tr>\n",
       "  </tbody>\n",
       "</table>\n",
       "</div>"
      ],
      "text/plain": [
       "     k  train_accuracy  validate_accuracy  difference\n",
       "0    1        0.729915           0.676307    0.053608\n",
       "1    2        0.706723           0.656443    0.050280\n",
       "2    3        0.741071           0.700129    0.040941\n",
       "3    4        0.734645           0.691986    0.042659\n",
       "4    5        0.754249           0.723267    0.030982\n",
       "5    6        0.739146           0.703554    0.035592\n",
       "6    7        0.756467           0.733922    0.022545\n",
       "7    8        0.746387           0.725245    0.021142\n",
       "8    9        0.751737           0.735444    0.016293\n",
       "9   10        0.747464           0.729203    0.018261\n",
       "10  11        0.753922           0.740848    0.013075\n",
       "11  12        0.752748           0.738793    0.013955\n",
       "12  13        0.756141           0.742142    0.013999\n",
       "13  14        0.752879           0.741457    0.011422\n",
       "14  15        0.756336           0.744729    0.011607\n",
       "15  16        0.754281           0.742674    0.011607\n",
       "16  17        0.756662           0.746632    0.010030\n",
       "17  18        0.753270           0.744577    0.008693\n",
       "18  19        0.756956           0.748154    0.008802"
      ]
     },
     "execution_count": 19,
     "metadata": {},
     "output_type": "execute_result"
    }
   ],
   "source": [
    "wrangle.KNN_model(X_train, X_validate, y_train, y_validate)"
   ]
  },
  {
   "cell_type": "code",
   "execution_count": 20,
   "id": "dbb39ae7-dacf-4dcb-b6c8-df382e1e8bf9",
   "metadata": {},
   "outputs": [
    {
     "name": "stdout",
     "output_type": "stream",
     "text": [
      "train_accuracy:  75.27%\n",
      "validate_accuracy:  73.88%\n"
     ]
    }
   ],
   "source": [
    "wrangle.knn_results(X_train, y_train, X_validate, y_validate)"
   ]
  },
  {
   "cell_type": "markdown",
   "id": "23c2005f-85c4-4d13-84d6-48ae0851c7be",
   "metadata": {},
   "source": [
    "# Logistic Regression Model"
   ]
  },
  {
   "cell_type": "code",
   "execution_count": 21,
   "id": "e7111084-52be-4ec6-921f-d56017503179",
   "metadata": {},
   "outputs": [
    {
     "data": {
      "text/html": [
       "<div>\n",
       "<style scoped>\n",
       "    .dataframe tbody tr th:only-of-type {\n",
       "        vertical-align: middle;\n",
       "    }\n",
       "\n",
       "    .dataframe tbody tr th {\n",
       "        vertical-align: top;\n",
       "    }\n",
       "\n",
       "    .dataframe thead th {\n",
       "        text-align: right;\n",
       "    }\n",
       "</style>\n",
       "<table border=\"1\" class=\"dataframe\">\n",
       "  <thead>\n",
       "    <tr style=\"text-align: right;\">\n",
       "      <th></th>\n",
       "      <th>C</th>\n",
       "      <th>train_accuracy</th>\n",
       "      <th>validate_accuracy</th>\n",
       "      <th>difference</th>\n",
       "    </tr>\n",
       "  </thead>\n",
       "  <tbody>\n",
       "    <tr>\n",
       "      <th>0</th>\n",
       "      <td>0.001</td>\n",
       "      <td>0.752552</td>\n",
       "      <td>0.751275</td>\n",
       "      <td>0.001278</td>\n",
       "    </tr>\n",
       "    <tr>\n",
       "      <th>1</th>\n",
       "      <td>0.005</td>\n",
       "      <td>0.755553</td>\n",
       "      <td>0.752036</td>\n",
       "      <td>0.003517</td>\n",
       "    </tr>\n",
       "    <tr>\n",
       "      <th>2</th>\n",
       "      <td>0.010</td>\n",
       "      <td>0.755684</td>\n",
       "      <td>0.752416</td>\n",
       "      <td>0.003267</td>\n",
       "    </tr>\n",
       "    <tr>\n",
       "      <th>3</th>\n",
       "      <td>0.050</td>\n",
       "      <td>0.756043</td>\n",
       "      <td>0.752949</td>\n",
       "      <td>0.003093</td>\n",
       "    </tr>\n",
       "    <tr>\n",
       "      <th>4</th>\n",
       "      <td>0.100</td>\n",
       "      <td>0.756141</td>\n",
       "      <td>0.753330</td>\n",
       "      <td>0.002811</td>\n",
       "    </tr>\n",
       "    <tr>\n",
       "      <th>5</th>\n",
       "      <td>0.500</td>\n",
       "      <td>0.756075</td>\n",
       "      <td>0.753254</td>\n",
       "      <td>0.002822</td>\n",
       "    </tr>\n",
       "    <tr>\n",
       "      <th>6</th>\n",
       "      <td>1.000</td>\n",
       "      <td>0.756075</td>\n",
       "      <td>0.753254</td>\n",
       "      <td>0.002822</td>\n",
       "    </tr>\n",
       "    <tr>\n",
       "      <th>7</th>\n",
       "      <td>5.000</td>\n",
       "      <td>0.756108</td>\n",
       "      <td>0.753254</td>\n",
       "      <td>0.002854</td>\n",
       "    </tr>\n",
       "    <tr>\n",
       "      <th>8</th>\n",
       "      <td>10.000</td>\n",
       "      <td>0.756108</td>\n",
       "      <td>0.753254</td>\n",
       "      <td>0.002854</td>\n",
       "    </tr>\n",
       "    <tr>\n",
       "      <th>9</th>\n",
       "      <td>50.000</td>\n",
       "      <td>0.756108</td>\n",
       "      <td>0.753254</td>\n",
       "      <td>0.002854</td>\n",
       "    </tr>\n",
       "    <tr>\n",
       "      <th>10</th>\n",
       "      <td>100.000</td>\n",
       "      <td>0.756108</td>\n",
       "      <td>0.753254</td>\n",
       "      <td>0.002854</td>\n",
       "    </tr>\n",
       "    <tr>\n",
       "      <th>11</th>\n",
       "      <td>500.000</td>\n",
       "      <td>0.756108</td>\n",
       "      <td>0.753254</td>\n",
       "      <td>0.002854</td>\n",
       "    </tr>\n",
       "    <tr>\n",
       "      <th>12</th>\n",
       "      <td>1000.000</td>\n",
       "      <td>0.756108</td>\n",
       "      <td>0.753254</td>\n",
       "      <td>0.002854</td>\n",
       "    </tr>\n",
       "  </tbody>\n",
       "</table>\n",
       "</div>"
      ],
      "text/plain": [
       "           C  train_accuracy  validate_accuracy  difference\n",
       "0      0.001        0.752552           0.751275    0.001278\n",
       "1      0.005        0.755553           0.752036    0.003517\n",
       "2      0.010        0.755684           0.752416    0.003267\n",
       "3      0.050        0.756043           0.752949    0.003093\n",
       "4      0.100        0.756141           0.753330    0.002811\n",
       "5      0.500        0.756075           0.753254    0.002822\n",
       "6      1.000        0.756075           0.753254    0.002822\n",
       "7      5.000        0.756108           0.753254    0.002854\n",
       "8     10.000        0.756108           0.753254    0.002854\n",
       "9     50.000        0.756108           0.753254    0.002854\n",
       "10   100.000        0.756108           0.753254    0.002854\n",
       "11   500.000        0.756108           0.753254    0.002854\n",
       "12  1000.000        0.756108           0.753254    0.002854"
      ]
     },
     "execution_count": 21,
     "metadata": {},
     "output_type": "execute_result"
    }
   ],
   "source": [
    "wrangle.logistic_regression_model(X_train, X_validate, y_train, y_validate)"
   ]
  },
  {
   "cell_type": "code",
   "execution_count": 22,
   "id": "454d9039-4808-46ec-81a1-ebbcf071f01f",
   "metadata": {},
   "outputs": [
    {
     "name": "stdout",
     "output_type": "stream",
     "text": [
      "train_accuracy:  75.61%\n",
      "validate_accuracy:  75.33%\n"
     ]
    }
   ],
   "source": [
    "wrangle.lr_results(X_train, y_train, X_validate, y_validate)"
   ]
  },
  {
   "cell_type": "markdown",
   "id": "fbefc972-0190-4a68-8edb-6a9a895ddfc0",
   "metadata": {},
   "source": [
    "# Model Accuracy Results"
   ]
  },
  {
   "cell_type": "code",
   "execution_count": 23,
   "id": "d4f1f74e-3d9a-4e98-8557-fa0c7fd8f135",
   "metadata": {},
   "outputs": [
    {
     "name": "stdout",
     "output_type": "stream",
     "text": [
      "====================================================================\n",
      "Accuracy of Logistic Regression on the training set is 75.61%\n",
      "Accuracy of Logistic Regression on the validation set is 75.33%\n",
      "--------------------------------------------------------------------\n",
      "Accuracy of Random Forest on the training set is 76.14%\n",
      "Accuracy of Random Forest on the validation set is 75.12%\n",
      "--------------------------------------------------------------------\n",
      "Accuracy of KNN on the training set is 75.27%\n",
      "Accuracy of KNN on the validation set is 73.88%\n",
      "====================================================================\n"
     ]
    }
   ],
   "source": [
    "wrangle.model_accuracy(X_train, y_train, X_validate, y_validate, X_test, y_test)"
   ]
  },
  {
   "cell_type": "markdown",
   "id": "96f57e25-6b6d-4f10-8028-2e668c5d7f18",
   "metadata": {},
   "source": [
    "## The Random Forest model performed the best"
   ]
  },
  {
   "cell_type": "markdown",
   "id": "befc0f73-7424-42d1-be80-ad2aa4fc692e",
   "metadata": {},
   "source": [
    "# Expectation of Model performance"
   ]
  },
  {
   "cell_type": "code",
   "execution_count": 24,
   "id": "7cc3dbd3-1722-43b0-8ef4-66d89365455c",
   "metadata": {},
   "outputs": [
    {
     "name": "stdout",
     "output_type": "stream",
     "text": [
      "==================================================================\n",
      "Baseline accuracy for the training data set is 50.00%\n",
      "Accuracy of Random Forest on the test set is 75.57%\n",
      "------------------------------------------------------------------\n"
     ]
    },
    {
     "ename": "NameError",
     "evalue": "name 'model' is not defined",
     "output_type": "error",
     "traceback": [
      "\u001b[0;31m---------------------------------------------------------------------------\u001b[0m",
      "\u001b[0;31mNameError\u001b[0m                                 Traceback (most recent call last)",
      "\u001b[0;32m/var/folders/dy/6l70n7994h596yst0fdjbly40000gn/T/ipykernel_9066/1297935424.py\u001b[0m in \u001b[0;36m<module>\u001b[0;34m\u001b[0m\n\u001b[0;32m----> 1\u001b[0;31m \u001b[0mwrangle\u001b[0m\u001b[0;34m.\u001b[0m\u001b[0mrf_test\u001b[0m\u001b[0;34m(\u001b[0m\u001b[0mX_test\u001b[0m\u001b[0;34m,\u001b[0m \u001b[0my_test\u001b[0m\u001b[0;34m,\u001b[0m \u001b[0mtest\u001b[0m\u001b[0;34m)\u001b[0m\u001b[0;34m\u001b[0m\u001b[0;34m\u001b[0m\u001b[0m\n\u001b[0m",
      "\u001b[0;32m~/codeup-data-science/heart-disease-project/wrangle.py\u001b[0m in \u001b[0;36mrf_test\u001b[0;34m(X_test, y_test, test)\u001b[0m\n\u001b[1;32m    395\u001b[0m     \u001b[0mprint\u001b[0m\u001b[0;34m(\u001b[0m\u001b[0;34m'------------------------------------------------------------------'\u001b[0m\u001b[0;34m)\u001b[0m\u001b[0;34m\u001b[0m\u001b[0;34m\u001b[0m\u001b[0m\n\u001b[1;32m    396\u001b[0m     \u001b[0;31m# By how much\u001b[0m\u001b[0;34m\u001b[0m\u001b[0;34m\u001b[0m\u001b[0m\n\u001b[0;32m--> 397\u001b[0;31m     \u001b[0mprint\u001b[0m\u001b[0;34m(\u001b[0m\u001b[0;34mf'Accuracy gained with use of the new model on the test set is {(model.score(X_test, y_test) - baseline_accuracy):.2%}'\u001b[0m\u001b[0;34m)\u001b[0m\u001b[0;34m\u001b[0m\u001b[0;34m\u001b[0m\u001b[0m\n\u001b[0m\u001b[1;32m    398\u001b[0m     \u001b[0mprint\u001b[0m\u001b[0;34m(\u001b[0m\u001b[0;34m'=================================================================='\u001b[0m\u001b[0;34m)\u001b[0m\u001b[0;34m\u001b[0m\u001b[0;34m\u001b[0m\u001b[0m\n",
      "\u001b[0;31mNameError\u001b[0m: name 'model' is not defined"
     ]
    }
   ],
   "source": [
    "wrangle.rf_test(X_test, y_test, test)"
   ]
  },
  {
   "cell_type": "markdown",
   "id": "5c27eb6d-d700-43ce-8692-cd7f140063de",
   "metadata": {},
   "source": [
    "# CONCLUSION \n",
    "## SUMMARY\n",
    "### Project goals were:\n",
    "- Identify key indicators of heart disease\n",
    "- Construct a model that accurately predicts at risk individuals\n",
    "\n",
    "### Key indicators of heart disease were identified as:\n",
    "- Age category\n",
    "- Difficulty walking/climbing stairs\n",
    "- Diabetes\n",
    "- Smoking\n",
    "- Physical health history"
   ]
  },
  {
   "cell_type": "markdown",
   "id": "117d7590-7190-4b04-a53b-1f8ca719ae6d",
   "metadata": {},
   "source": [
    "# RECOMMENDATIONS\n",
    "- Educate the public on preventative measures\n",
    "- The greatest key indicators are lifestyle related\n",
    "    - Prevention is far cheaper than treatment\n",
    "- Dietary recommendations, simple lifestyle changes, and increased physical activity can be cheap and effective"
   ]
  },
  {
   "cell_type": "markdown",
   "id": "93e2b45d-0416-4a59-8f86-00425679fe53",
   "metadata": {},
   "source": [
    "# NEXT STEPS\n",
    "- Tracking and keeping up with feedback on treatment plans will be useful data to analyze\n",
    "    - This could prove useful to measure effectiveness of preventative measures and treatment plans"
   ]
  }
 ],
 "metadata": {
  "kernelspec": {
   "display_name": "Python 3 (ipykernel)",
   "language": "python",
   "name": "python3"
  },
  "language_info": {
   "codemirror_mode": {
    "name": "ipython",
    "version": 3
   },
   "file_extension": ".py",
   "mimetype": "text/x-python",
   "name": "python",
   "nbconvert_exporter": "python",
   "pygments_lexer": "ipython3",
   "version": "3.9.7"
  }
 },
 "nbformat": 4,
 "nbformat_minor": 5
}
